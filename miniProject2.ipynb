{
 "cells": [
  {
   "cell_type": "code",
   "execution_count": 1,
   "id": "db2a5973",
   "metadata": {},
   "outputs": [
    {
     "name": "stdout",
     "output_type": "stream",
     "text": [
      "Input: [0, 0], Output: 0\n",
      "Input: [0, 1], Output: 0\n",
      "Input: [1, 0], Output: 0\n",
      "Input: [1, 1], Output: 1\n"
     ]
    }
   ],
   "source": [
    "class NeuralNetwork:\n",
    "    def __init__(self):\n",
    "        # Initialize the weights and bias\n",
    "        self.weights = [0.5, 0.5]\n",
    "        self.bias = -0.6\n",
    "    \n",
    "    def activate(self, input):\n",
    "        # Step function activation\n",
    "        return 1 if input >= 0 else 0\n",
    "    \n",
    "    def feedforward(self, x1, x2):\n",
    "        # Forward propagation through the network\n",
    "        weighted_sum = x1 * self.weights[0] + x2 * self.weights[1] + self.bias\n",
    "        return self.activate(weighted_sum)\n",
    "    \n",
    "# Create an instance of the neural network\n",
    "network = NeuralNetwork()\n",
    "\n",
    "# Test the neural network with different inputs\n",
    "inputs = [(0, 0), (0, 1), (1, 0), (1, 1)]\n",
    "for x1, x2 in inputs:\n",
    "    output = network.feedforward(x1, x2)\n",
    "    print(f\"Input: [{x1}, {x2}], Output: {output}\")\n",
    "    \n",
    "    \n",
    "#In the given implementation, there is a single layer with two input units and one output unit.\n",
    "#Input Layer: Units: 2\n",
    "#Output Layer: Units: 1\n",
    "#The input layer consists of two units (representing the two input values), \n",
    "#and the output layer consists of one unit (representing the output of the AND gate).\n"
   ]
  },
  {
   "cell_type": "code",
   "execution_count": null,
   "id": "ab707407",
   "metadata": {},
   "outputs": [],
   "source": [
    "import numpy as np\n",
    "from tensorflow.keras.models import Sequential\n",
    "from tensorflow.keras.layers import Dense\n",
    "\n",
    "\n",
    "# Define the training set\n",
    "training_data = np.array([\n",
    "    [1, 1, 1, 0, 0, 1],\n",
    "    [1, 1, 1, 0, 1, 1],\n",
    "    [0, 0, 0, 1, 0, 0],\n",
    "    [0, 0, 0, 1, 1, 0],\n",
    "    [0, 0, 1, 0, 0, 1],\n",
    "    [0, 0, 1, 0, 1, 1],\n",
    "    [0, 0, 1, 1, 0, 1],\n",
    "    [0, 0, 1, 1, 1, 1],\n",
    "    [0, 1, 0, 0, 0, 0],\n",
    "    [0, 1, 0, 0, 1, 0],\n",
    "    [0, 1, 0, 1, 0, 0],\n",
    "    [0, 1, 0, 1, 1, 0],\n",
    "    [0, 1, 1, 0, 0, 1],\n",
    "    [0, 1, 1, 0, 1, 1],\n",
    "    [0, 1, 1, 1, 0, 1],\n",
    "    [0, 1, 1, 1, 1, 1],\n",
    "    [1, 0, 0, 0, 0, 1],\n",
    "    [1, 0, 0, 0, 1, 1],\n",
    "    [1, 0, 0, 1, 0, 1],\n",
    "    [1, 0, 0, 1, 1, 1],\n",
    "    [1, 0, 1, 0, 0, 1],\n",
    "    [1, 0, 1, 0, 1, 1],\n",
    "    [1, 0, 1, 1, 0, 1],\n",
    "    [1, 0, 1, 1, 1, 1]\n",
    "])\n",
    "\n",
    "# Separate the inputs (features) and outputs (labels)\n",
    "X_train = training_data[:, :-1]\n",
    "y_train = training_data[:, -1]\n",
    "\n",
    "# Define the testing set\n",
    "testing_data = np.array([\n",
    "    [1, 1, 0, 0, 0, 1],\n",
    "    [1, 1, 0, 0, 1, 1],\n",
    "    [0, 0, 0, 0, 0, 0],\n",
    "    [0, 0, 0, 0, 1, 0],\n",
    "    [1, 1, 0, 1, 0, 1],\n",
    "    [1, 1, 0, 1, 1, 1],\n",
    "    [1, 1, 1, 1, 0, 1],\n",
    "    [1, 1, 1, 1, 1, 1]\n",
    "])\n",
    "\n",
    "# Separate the inputs (features) and outputs (labels)\n",
    "X_test = testing_data[:, :-1]\n",
    "y_test = testing_data[:, -1]\n",
    "\n",
    "# Define the neural network model\n",
    "model = Sequential()\n",
    "model.add(Dense(10, input_dim=X_train.shape[1], activation='relu'))\n",
    "model.add(Dense(1, activation='sigmoid'))\n",
    "\n",
    "# Compile the model\n",
    "model.compile(loss='binary_crossentropy', optimizer='adam', metrics=['accuracy'])\n",
    "\n",
    "# Train the model\n",
    "model.fit(X_train, y_train, epochs=100, batch_size=8, verbose=0)\n",
    "\n",
    "# Evaluate the model on the testing set\n",
    "loss, accuracy = model.evaluate(X_test, y_test, verbose=0)\n",
    "\n",
    "# Print the accuracy\n",
    "print(f'Test Accuracy: {accuracy * 100:.2f}%')\n"
   ]
  },
  {
   "cell_type": "code",
   "execution_count": 3,
   "id": "3481a32f",
   "metadata": {},
   "outputs": [],
   "source": [
    "import warnings\n",
    "warnings.filterwarnings(\"ignore\", category=FutureWarning)\n",
    "\n"
   ]
  },
  {
   "cell_type": "code",
   "execution_count": null,
   "id": "b521eacb",
   "metadata": {},
   "outputs": [],
   "source": [
    "!pip check\n",
    "\n"
   ]
  },
  {
   "cell_type": "code",
   "execution_count": null,
   "id": "f6678005",
   "metadata": {},
   "outputs": [],
   "source": [
    "\n"
   ]
  }
 ],
 "metadata": {
  "kernelspec": {
   "display_name": "Python 3 (ipykernel)",
   "language": "python",
   "name": "python3"
  },
  "language_info": {
   "codemirror_mode": {
    "name": "ipython",
    "version": 3
   },
   "file_extension": ".py",
   "mimetype": "text/x-python",
   "name": "python",
   "nbconvert_exporter": "python",
   "pygments_lexer": "ipython3",
   "version": "3.8.16"
  }
 },
 "nbformat": 4,
 "nbformat_minor": 5
}
